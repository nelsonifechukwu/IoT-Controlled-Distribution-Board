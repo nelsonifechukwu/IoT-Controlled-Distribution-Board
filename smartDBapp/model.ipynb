{
 "cells": [
  {
   "cell_type": "code",
   "execution_count": 106,
   "metadata": {},
   "outputs": [],
   "source": [
    "import pandas as pd\n",
    "import numpy as np "
   ]
  },
  {
   "cell_type": "code",
   "execution_count": 107,
   "metadata": {},
   "outputs": [],
   "source": [
    "df = pd.read_csv('dipo.csv')"
   ]
  },
  {
   "cell_type": "code",
   "execution_count": 108,
   "metadata": {},
   "outputs": [
    {
     "data": {
      "text/html": [
       "<div>\n",
       "<style scoped>\n",
       "    .dataframe tbody tr th:only-of-type {\n",
       "        vertical-align: middle;\n",
       "    }\n",
       "\n",
       "    .dataframe tbody tr th {\n",
       "        vertical-align: top;\n",
       "    }\n",
       "\n",
       "    .dataframe thead th {\n",
       "        text-align: right;\n",
       "    }\n",
       "</style>\n",
       "<table border=\"1\" class=\"dataframe\">\n",
       "  <thead>\n",
       "    <tr style=\"text-align: right;\">\n",
       "      <th></th>\n",
       "      <th>id</th>\n",
       "      <th>c1</th>\n",
       "      <th>c2</th>\n",
       "      <th>c3</th>\n",
       "      <th>c4</th>\n",
       "      <th>c5</th>\n",
       "      <th>c6</th>\n",
       "      <th>c7</th>\n",
       "      <th>c8</th>\n",
       "      <th>v</th>\n",
       "    </tr>\n",
       "  </thead>\n",
       "  <tbody>\n",
       "    <tr>\n",
       "      <th>0</th>\n",
       "      <td>15</td>\n",
       "      <td>0</td>\n",
       "      <td>0</td>\n",
       "      <td>0</td>\n",
       "      <td>0</td>\n",
       "      <td>0</td>\n",
       "      <td>0</td>\n",
       "      <td>0</td>\n",
       "      <td>0</td>\n",
       "      <td>0</td>\n",
       "    </tr>\n",
       "    <tr>\n",
       "      <th>1</th>\n",
       "      <td>16</td>\n",
       "      <td>0</td>\n",
       "      <td>0</td>\n",
       "      <td>0</td>\n",
       "      <td>0</td>\n",
       "      <td>0</td>\n",
       "      <td>0</td>\n",
       "      <td>0</td>\n",
       "      <td>0</td>\n",
       "      <td>227</td>\n",
       "    </tr>\n",
       "    <tr>\n",
       "      <th>2</th>\n",
       "      <td>17</td>\n",
       "      <td>0</td>\n",
       "      <td>0</td>\n",
       "      <td>0</td>\n",
       "      <td>0</td>\n",
       "      <td>0</td>\n",
       "      <td>0</td>\n",
       "      <td>0</td>\n",
       "      <td>0</td>\n",
       "      <td>227</td>\n",
       "    </tr>\n",
       "    <tr>\n",
       "      <th>3</th>\n",
       "      <td>18</td>\n",
       "      <td>0</td>\n",
       "      <td>0</td>\n",
       "      <td>0</td>\n",
       "      <td>0</td>\n",
       "      <td>0</td>\n",
       "      <td>0</td>\n",
       "      <td>0</td>\n",
       "      <td>0</td>\n",
       "      <td>227</td>\n",
       "    </tr>\n",
       "    <tr>\n",
       "      <th>4</th>\n",
       "      <td>19</td>\n",
       "      <td>0</td>\n",
       "      <td>0</td>\n",
       "      <td>0</td>\n",
       "      <td>0</td>\n",
       "      <td>0</td>\n",
       "      <td>0</td>\n",
       "      <td>0</td>\n",
       "      <td>0</td>\n",
       "      <td>227</td>\n",
       "    </tr>\n",
       "  </tbody>\n",
       "</table>\n",
       "</div>"
      ],
      "text/plain": [
       "   id  c1  c2  c3  c4  c5  c6  c7  c8    v\n",
       "0  15   0   0   0   0   0   0   0   0    0\n",
       "1  16   0   0   0   0   0   0   0   0  227\n",
       "2  17   0   0   0   0   0   0   0   0  227\n",
       "3  18   0   0   0   0   0   0   0   0  227\n",
       "4  19   0   0   0   0   0   0   0   0  227"
      ]
     },
     "execution_count": 108,
     "metadata": {},
     "output_type": "execute_result"
    }
   ],
   "source": [
    "df.head()"
   ]
  },
  {
   "cell_type": "code",
   "execution_count": 109,
   "metadata": {},
   "outputs": [
    {
     "data": {
      "text/html": [
       "<div>\n",
       "<style scoped>\n",
       "    .dataframe tbody tr th:only-of-type {\n",
       "        vertical-align: middle;\n",
       "    }\n",
       "\n",
       "    .dataframe tbody tr th {\n",
       "        vertical-align: top;\n",
       "    }\n",
       "\n",
       "    .dataframe thead th {\n",
       "        text-align: right;\n",
       "    }\n",
       "</style>\n",
       "<table border=\"1\" class=\"dataframe\">\n",
       "  <thead>\n",
       "    <tr style=\"text-align: right;\">\n",
       "      <th></th>\n",
       "      <th>c1</th>\n",
       "      <th>c2</th>\n",
       "      <th>c3</th>\n",
       "      <th>c4</th>\n",
       "      <th>c5</th>\n",
       "      <th>c6</th>\n",
       "      <th>c7</th>\n",
       "      <th>c8</th>\n",
       "      <th>v</th>\n",
       "    </tr>\n",
       "  </thead>\n",
       "  <tbody>\n",
       "    <tr>\n",
       "      <th>0</th>\n",
       "      <td>0</td>\n",
       "      <td>0</td>\n",
       "      <td>0</td>\n",
       "      <td>0</td>\n",
       "      <td>0</td>\n",
       "      <td>0</td>\n",
       "      <td>0</td>\n",
       "      <td>0</td>\n",
       "      <td>0</td>\n",
       "    </tr>\n",
       "    <tr>\n",
       "      <th>1</th>\n",
       "      <td>0</td>\n",
       "      <td>0</td>\n",
       "      <td>0</td>\n",
       "      <td>0</td>\n",
       "      <td>0</td>\n",
       "      <td>0</td>\n",
       "      <td>0</td>\n",
       "      <td>0</td>\n",
       "      <td>227</td>\n",
       "    </tr>\n",
       "    <tr>\n",
       "      <th>2</th>\n",
       "      <td>0</td>\n",
       "      <td>0</td>\n",
       "      <td>0</td>\n",
       "      <td>0</td>\n",
       "      <td>0</td>\n",
       "      <td>0</td>\n",
       "      <td>0</td>\n",
       "      <td>0</td>\n",
       "      <td>227</td>\n",
       "    </tr>\n",
       "    <tr>\n",
       "      <th>3</th>\n",
       "      <td>0</td>\n",
       "      <td>0</td>\n",
       "      <td>0</td>\n",
       "      <td>0</td>\n",
       "      <td>0</td>\n",
       "      <td>0</td>\n",
       "      <td>0</td>\n",
       "      <td>0</td>\n",
       "      <td>227</td>\n",
       "    </tr>\n",
       "    <tr>\n",
       "      <th>4</th>\n",
       "      <td>0</td>\n",
       "      <td>0</td>\n",
       "      <td>0</td>\n",
       "      <td>0</td>\n",
       "      <td>0</td>\n",
       "      <td>0</td>\n",
       "      <td>0</td>\n",
       "      <td>0</td>\n",
       "      <td>227</td>\n",
       "    </tr>\n",
       "  </tbody>\n",
       "</table>\n",
       "</div>"
      ],
      "text/plain": [
       "   c1  c2  c3  c4  c5  c6  c7  c8    v\n",
       "0   0   0   0   0   0   0   0   0    0\n",
       "1   0   0   0   0   0   0   0   0  227\n",
       "2   0   0   0   0   0   0   0   0  227\n",
       "3   0   0   0   0   0   0   0   0  227\n",
       "4   0   0   0   0   0   0   0   0  227"
      ]
     },
     "execution_count": 109,
     "metadata": {},
     "output_type": "execute_result"
    }
   ],
   "source": [
    "df = df[['c1', 'c2', 'c3', 'c4', 'c5', 'c6', 'c7', 'c8', 'v']]\n",
    "df.head()"
   ]
  },
  {
   "cell_type": "code",
   "execution_count": 110,
   "metadata": {},
   "outputs": [
    {
     "data": {
      "text/plain": [
       "(449, 9)"
      ]
     },
     "execution_count": 110,
     "metadata": {},
     "output_type": "execute_result"
    }
   ],
   "source": [
    "df.shape"
   ]
  },
  {
   "cell_type": "code",
   "execution_count": 111,
   "metadata": {},
   "outputs": [
    {
     "data": {
      "text/plain": [
       "array([[  0,   0,   0, ...,   0,   0,   0],\n",
       "       [  0,   0,   0, ...,   0,   0, 227],\n",
       "       [  0,   0,   0, ...,   0,   0, 227],\n",
       "       ...,\n",
       "       [  0,   0,   0, ...,   0,   0, 227],\n",
       "       [  0,   0,   0, ...,   0,   0,   0],\n",
       "       [  0,   0,   0, ...,   0,   0,   0]])"
      ]
     },
     "execution_count": 111,
     "metadata": {},
     "output_type": "execute_result"
    }
   ],
   "source": [
    "df.values"
   ]
  },
  {
   "cell_type": "code",
   "execution_count": 112,
   "metadata": {},
   "outputs": [
    {
     "data": {
      "text/plain": [
       "((439, 10, 9), (439, 9))"
      ]
     },
     "execution_count": 112,
     "metadata": {},
     "output_type": "execute_result"
    }
   ],
   "source": [
    "SEQ_LEN = 10\n",
    "\n",
    "X = df.values\n",
    "y = df.values[SEQ_LEN:]\n",
    "\n",
    "X_new = []\n",
    "for t in range(X.shape[0]-(SEQ_LEN)):\n",
    "    X_new.append(X[t:t+SEQ_LEN])\n",
    "X_new = np.array(X_new)\n",
    "\n",
    "X_new.shape, y.shape"
   ]
  },
  {
   "cell_type": "code",
   "execution_count": 113,
   "metadata": {},
   "outputs": [],
   "source": [
    "from tensorflow.keras.layers import Dense, Dropout, BatchNormalization, Input, LSTM\n",
    "import tensorflow as tf"
   ]
  },
  {
   "cell_type": "code",
   "execution_count": 114,
   "metadata": {},
   "outputs": [
    {
     "name": "stdout",
     "output_type": "stream",
     "text": [
      "WARNING:tensorflow:Layer lstm_8 will not use cuDNN kernels since it doesn't meet the criteria. It will use a generic GPU kernel as fallback when running on GPU.\n"
     ]
    },
    {
     "name": "stderr",
     "output_type": "stream",
     "text": [
      "WARNING:tensorflow:Layer lstm_8 will not use cuDNN kernels since it doesn't meet the criteria. It will use a generic GPU kernel as fallback when running on GPU.\n"
     ]
    }
   ],
   "source": [
    "inputs = Input(shape=(X_new.shape[1], X_new.shape[2]))\n",
    "\n",
    "x = LSTM(16, activation='tanh', unroll=True, dropout=0.3, recurrent_dropout=0.3)(inputs)\n",
    "\n",
    "x = Dense(16, activation='relu')(x)\n",
    "x = BatchNormalization()(x)\n",
    "\n",
    "outputs = Dense(y.shape[1])(x)\n",
    "\n",
    "model = tf.keras.Model(inputs, outputs)"
   ]
  },
  {
   "cell_type": "code",
   "execution_count": 124,
   "metadata": {},
   "outputs": [],
   "source": [
    "model.compile(loss = 'mse', optimizer = tf.keras.optimizers.legacy.Adam(1) , metrics = [\"accuracy\"])"
   ]
  },
  {
   "cell_type": "code",
   "execution_count": 125,
   "metadata": {},
   "outputs": [
    {
     "name": "stdout",
     "output_type": "stream",
     "text": [
      "Model: \"model_7\"\n",
      "_________________________________________________________________\n",
      " Layer (type)                Output Shape              Param #   \n",
      "=================================================================\n",
      " input_9 (InputLayer)        [(None, 10, 9)]           0         \n",
      "                                                                 \n",
      " lstm_8 (LSTM)               (None, 16)                1664      \n",
      "                                                                 \n",
      " dense_19 (Dense)            (None, 16)                272       \n",
      "                                                                 \n",
      " batch_normalization_11 (Bat  (None, 16)               64        \n",
      " chNormalization)                                                \n",
      "                                                                 \n",
      " dense_20 (Dense)            (None, 9)                 153       \n",
      "                                                                 \n",
      "=================================================================\n",
      "Total params: 2,153\n",
      "Trainable params: 2,121\n",
      "Non-trainable params: 32\n",
      "_________________________________________________________________\n"
     ]
    }
   ],
   "source": [
    "model.summary()"
   ]
  },
  {
   "cell_type": "code",
   "execution_count": 127,
   "metadata": {},
   "outputs": [
    {
     "name": "stdout",
     "output_type": "stream",
     "text": [
      "Epoch 1/15\n",
      "5/5 [==============================] - 1s 161ms/step - loss: 0.1759 - accuracy: 1.0000 - val_loss: 91.3237 - val_accuracy: 0.9848\n",
      "Epoch 2/15\n",
      "5/5 [==============================] - 1s 127ms/step - loss: 0.1700 - accuracy: 1.0000 - val_loss: 91.6937 - val_accuracy: 0.9848\n",
      "Epoch 3/15\n",
      "5/5 [==============================] - 1s 123ms/step - loss: 0.1625 - accuracy: 1.0000 - val_loss: 91.8943 - val_accuracy: 0.9848\n",
      "Epoch 4/15\n",
      "5/5 [==============================] - 1s 116ms/step - loss: 0.1565 - accuracy: 1.0000 - val_loss: 91.9918 - val_accuracy: 0.9848\n",
      "Epoch 5/15\n",
      "5/5 [==============================] - 1s 118ms/step - loss: 0.1671 - accuracy: 1.0000 - val_loss: 92.0314 - val_accuracy: 0.9848\n",
      "Epoch 6/15\n",
      "5/5 [==============================] - 1s 153ms/step - loss: 0.1722 - accuracy: 1.0000 - val_loss: 92.1610 - val_accuracy: 0.9848\n",
      "Epoch 7/15\n",
      "5/5 [==============================] - 1s 136ms/step - loss: 0.1623 - accuracy: 1.0000 - val_loss: 92.0639 - val_accuracy: 0.9848\n",
      "Epoch 8/15\n",
      "5/5 [==============================] - 1s 124ms/step - loss: 0.1499 - accuracy: 1.0000 - val_loss: 92.1731 - val_accuracy: 0.9848\n",
      "Epoch 9/15\n",
      "5/5 [==============================] - 1s 115ms/step - loss: 0.1599 - accuracy: 1.0000 - val_loss: 92.2297 - val_accuracy: 0.9848\n",
      "Epoch 10/15\n",
      "5/5 [==============================] - 1s 187ms/step - loss: 0.1529 - accuracy: 1.0000 - val_loss: 92.2087 - val_accuracy: 0.9848\n",
      "Epoch 11/15\n",
      "5/5 [==============================] - 1s 120ms/step - loss: 0.1801 - accuracy: 1.0000 - val_loss: 92.3342 - val_accuracy: 0.9848\n",
      "Epoch 12/15\n",
      "5/5 [==============================] - 1s 122ms/step - loss: 0.2229 - accuracy: 1.0000 - val_loss: 91.8164 - val_accuracy: 0.9848\n",
      "Epoch 13/15\n",
      "5/5 [==============================] - 1s 114ms/step - loss: 0.1882 - accuracy: 1.0000 - val_loss: 90.8866 - val_accuracy: 0.9848\n",
      "Epoch 14/15\n",
      "5/5 [==============================] - 1s 169ms/step - loss: 0.1995 - accuracy: 1.0000 - val_loss: 90.5349 - val_accuracy: 0.9848\n",
      "Epoch 15/15\n",
      "5/5 [==============================] - 1s 146ms/step - loss: 0.1716 - accuracy: 1.0000 - val_loss: 90.3378 - val_accuracy: 0.9848\n"
     ]
    }
   ],
   "source": [
    "history = model.fit(X_new, y,  epochs = 15, validation_split=0.3, batch_size=64)"
   ]
  },
  {
   "cell_type": "code",
   "execution_count": 128,
   "metadata": {},
   "outputs": [],
   "source": [
    "model.save('simple_model.h5')"
   ]
  },
  {
   "cell_type": "code",
   "execution_count": 129,
   "metadata": {},
   "outputs": [
    {
     "data": {
      "text/plain": [
       "(10, 9)"
      ]
     },
     "execution_count": 129,
     "metadata": {},
     "output_type": "execute_result"
    }
   ],
   "source": [
    "X_new[7].shape"
   ]
  },
  {
   "cell_type": "code",
   "execution_count": 130,
   "metadata": {},
   "outputs": [
    {
     "name": "stdout",
     "output_type": "stream",
     "text": [
      "1/1 [==============================] - 5s 5s/step\n"
     ]
    },
    {
     "data": {
      "text/plain": [
       "array([[ 2.86729932e-01,  1.12300634e-01,  4.70219254e-02,\n",
       "         2.06874609e-02, -4.62884545e-01,  1.31356776e-01,\n",
       "         1.28588617e-01, -1.73610389e-01,  2.24775192e+02]], dtype=float32)"
      ]
     },
     "execution_count": 130,
     "metadata": {},
     "output_type": "execute_result"
    }
   ],
   "source": [
    "model.predict(np.expand_dims(X_new[7], 0))"
   ]
  },
  {
   "cell_type": "code",
   "execution_count": null,
   "metadata": {},
   "outputs": [],
   "source": []
  }
 ],
 "metadata": {
  "kernelspec": {
   "display_name": "aienv",
   "language": "python",
   "name": "python3"
  },
  "language_info": {
   "codemirror_mode": {
    "name": "ipython",
    "version": 3
   },
   "file_extension": ".py",
   "mimetype": "text/x-python",
   "name": "python",
   "nbconvert_exporter": "python",
   "pygments_lexer": "ipython3",
   "version": "3.10.11"
  },
  "orig_nbformat": 4
 },
 "nbformat": 4,
 "nbformat_minor": 2
}
